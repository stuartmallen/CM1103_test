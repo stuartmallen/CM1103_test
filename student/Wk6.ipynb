{
 "cells": [
  {
   "cell_type": "markdown",
   "metadata": {},
   "source": [
    "# Pre-session material\n",
    "\n",
    "\n",
    "## Finding Easter: An introduction to algorithms and Python\n",
    "\n",
    "After watching the videos, think about these questions before the interactive session:\n",
    "\n",
    "[Finding Easter: An introduction to algorithms and Python](https://cardiff.cloud.panopto.eu/Panopto/Pages/Viewer.aspx?id=81bf6ab5-f0d8-4e2a-980e-af3e013743aa) (watch before ???)\n",
    "\n",
    "- Implement simple mathematical expressions in Python, including finding the _quotient_ and _remainder_ \n",
    "- Understand definitions of _variables_ and _type_ \n",
    "- Understand implications of operator precedence in Python\n",
    "\n",
    "### Questions\n",
    "\n",
    "1. Can you convince yourself that the quotient and remainder always exist for a pair of integers, and that there is a unique quotient and remainder for any pair of integers?\n",
    "\n",
    "2. Does the modulo operator (%) in Python work for negative numbers or decimals/floats?\n",
    "\n",
    "## Writing functions in Python\n",
    "\n",
    "[Writing functions in Python]()\n",
    "\n",
    "- ???\n",
    "\n",
    "### Questions\n",
    "\n",
    "3. In the \"Easter function\" video, we wrote a function to calculate the date of Easter Sunday for a given year. Give an example of an application where you may want to call such a function.\n",
    "\n",
    "4. In the \"Easter function\" video, we wrote the following function to calculate Easter Sunday:\n",
    "\n",
    "```\n",
    "def Easter(y): \n",
    "  a = y % 19   \n",
    "  b = y // 100   \n",
    "  c = y % 100   \n",
    "  d = b // 4   \n",
    "  e = b % 4   \n",
    "  g = (8 * b + 13) // 25   \n",
    "  h = (19 * a + b - d - g + 15) % 30   \n",
    "  j = c // 4 \n",
    "  k = c % 4 \n",
    "  m = (a + 11 * h) // 319 \n",
    "  r = (2 * e + 2 * j - k - h + m + 32) % 7 \n",
    "  n = (h - m + r + 90) // 25 \n",
    "  p = (h - m + r + n + 19) % 32 \n",
    "  print(f\"{p}/{n}/{y}\")\n",
    "```\n",
    "\n",
    "Given your answer to 3, how useful is this function? How could we improve it? \n",
    "\n",
    "5. Consider the following outline of a function for a calculation that is only valid for positive integers. What don't you like about it? \n",
    "\n",
    "```\n",
    "def calculateSomethingHard(n):\n",
    "  if n > 0:\n",
    "    # perform some calculation\n",
    "    return answer\n",
    "  else:\n",
    "    return \"No valid answer\"\n",
    "```\n"
   ]
  },
  {
   "cell_type": "markdown",
   "metadata": {},
   "source": [
    "## Quiz\n",
    "\n",
    "??? link to mentimeter poll ???"
   ]
  },
  {
   "cell_type": "code",
   "execution_count": null,
   "metadata": {},
   "outputs": [],
   "source": [
    "\n"
   ]
  },
  {
   "cell_type": "code",
   "execution_count": null,
   "metadata": {},
   "outputs": [],
   "source": []
  },
  {
   "cell_type": "code",
   "execution_count": null,
   "metadata": {},
   "outputs": [],
   "source": []
  },
  {
   "cell_type": "markdown",
   "metadata": {},
   "source": [
    "## Live session"
   ]
  },
  {
   "cell_type": "markdown",
   "metadata": {},
   "source": [
    "1. Can you convince yourself that the quotient and remainder always exist for a pair of integers, and that there is a unique quotient and remainder for any pair of integers?"
   ]
  },
  {
   "cell_type": "code",
   "execution_count": null,
   "metadata": {},
   "outputs": [],
   "source": []
  },
  {
   "cell_type": "markdown",
   "metadata": {},
   "source": [
    "2. Does the modulo operator (%) in Python work for negative numbers or decimals/floats?"
   ]
  },
  {
   "cell_type": "code",
   "execution_count": null,
   "metadata": {},
   "outputs": [],
   "source": []
  },
  {
   "cell_type": "markdown",
   "metadata": {},
   "source": [
    "3. In the \"Easter function\" video, we wrote a function to calculate the date of Easter Sunday for a given year. Give an example of an application where you may want to call such a function."
   ]
  },
  {
   "cell_type": "code",
   "execution_count": null,
   "metadata": {},
   "outputs": [],
   "source": []
  },
  {
   "cell_type": "markdown",
   "metadata": {},
   "source": [
    "4. In the \"Easter function\" video, we wrote the following function to calculate Easter Sunday:\n",
    "\n",
    "```\n",
    "def Easter(y): \n",
    "  a = y % 19   \n",
    "  b = y // 100   \n",
    "  c = y % 100   \n",
    "  d = b // 4   \n",
    "  e = b % 4   \n",
    "  g = (8 * b + 13) // 25   \n",
    "  h = (19 * a + b - d - g + 15) % 30   \n",
    "  j = c // 4 \n",
    "  k = c % 4 \n",
    "  m = (a + 11 * h) // 319 \n",
    "  r = (2 * e + 2 * j - k - h + m + 32) % 7 \n",
    "  n = (h - m + r + 90) // 25 \n",
    "  p = (h - m + r + n + 19) % 32 \n",
    "  print(f\"{p}/{n}/{y}\")\n",
    "```\n",
    "\n",
    "Given your answer to 3, how useful is this function? How could we improve it? "
   ]
  },
  {
   "cell_type": "code",
   "execution_count": 1,
   "metadata": {},
   "outputs": [],
   "source": [
    "def Easter(y): \n",
    "  a = y % 19   \n",
    "  b = y // 100   \n",
    "  c = y % 100   \n",
    "  d = b // 4   \n",
    "  e = b % 4   \n",
    "  g = (8 * b + 13) // 25   \n",
    "  h = (19 * a + b - d - g + 15) % 30   \n",
    "  j = c // 4 \n",
    "  k = c % 4 \n",
    "  m = (a + 11 * h) // 319 \n",
    "  r = (2 * e + 2 * j - k - h + m + 32) % 7 \n",
    "  n = (h - m + r + 90) // 25 \n",
    "  p = (h - m + r + n + 19) % 32 \n",
    "  print(f\"{p}/{n}/{y}\")"
   ]
  },
  {
   "cell_type": "markdown",
   "metadata": {},
   "source": [
    "5. Consider the following outline of a function for a calculation that is only valid for positive integers. What don't you like about it? \n",
    "\n",
    "```\n",
    "def calculateSomethingHard(n):\n",
    "  if n > 0:\n",
    "    # perform some calculation\n",
    "    return answer\n",
    "  else:\n",
    "    return \"No valid answer\"\n",
    "```"
   ]
  },
  {
   "cell_type": "code",
   "execution_count": null,
   "metadata": {},
   "outputs": [],
   "source": []
  }
 ],
 "metadata": {
  "kernelspec": {
   "display_name": "CM1103",
   "language": "python",
   "name": "python3"
  },
  "language_info": {
   "codemirror_mode": {
    "name": "ipython",
    "version": 3
   },
   "file_extension": ".py",
   "mimetype": "text/x-python",
   "name": "python",
   "nbconvert_exporter": "python",
   "pygments_lexer": "ipython3",
   "version": "3.12.5"
  }
 },
 "nbformat": 4,
 "nbformat_minor": 2
}
